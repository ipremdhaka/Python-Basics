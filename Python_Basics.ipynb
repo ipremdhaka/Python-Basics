{
  "nbformat": 4,
  "nbformat_minor": 0,
  "metadata": {
    "colab": {
      "provenance": []
    },
    "kernelspec": {
      "name": "python3",
      "display_name": "Python 3"
    },
    "language_info": {
      "name": "python"
    }
  },
  "cells": [
    {
      "cell_type": "markdown",
      "source": [
        "#Python Basics\n"
      ],
      "metadata": {
        "id": "1IZW1TgY144G"
      }
    },
    {
      "cell_type": "markdown",
      "source": [
        "1. What is Python, and why is it popular?\n",
        " - Python is a high-level, interpreted, object-oriented, and dynamically typed programming language. It is popular due to its simplicity, a large community, extensive libraries, and diverse applications across web development, data science, and machine learning.\n",
        "\n",
        "2. What is an interpreter in Python?\n",
        " - An interpreter is a program that reads and executes Python code line by line. Python's interpreter translates and executes each line as it's encountered. This allows for interactive coding and easier debugging.\n",
        "\n",
        "3.  What are pre-defined keywords in Python?\n",
        " - Predefined keywords are reserved words with specific meanings that cannot be used as variable, function, or class names. These keywords are fundamental to Python's syntax and are used for various purposes like controlling program flow, defining structures, and performing operations.\n",
        "\n",
        " Examples:\n",
        "True, False, if, elif, else, None, and, or, not (and more).\n",
        "\n",
        "4. Can keywords be used as variable names?\n",
        " - No, keywords cannot be used as variable names in Python as they are reserved words that have specific meanings within the language and are used to define the structure and syntax of the code. Using a keyword as a variable name would lead to a conflict because the interpreter would not know whether the word refers to the keyword's intended meaning or the variable.\n",
        "\n",
        "5. What is mutability in Python?\n",
        " - Mutability refers to whether the contents of an object can be changed after the object is created. In Python:\n",
        "\n",
        "      Mutable objects (like lists and dictionaries) can be modified after creation.\n",
        "\n",
        "      Immutable objects (like strings, integers, and tuples) cannot be changed.\n",
        "      This concept helps manage how data is stored, shared, and protected during program execution.\n",
        "\n",
        "6. Why are lists mutable, but tuples are immutable?\n",
        " - Lists are mutable because they are designed to hold a collection of items that may change over time—you can add, remove, or update elements.\n",
        "\n",
        "    Tuples, on the other hand, are immutable for a reason: they provide data safety and faster performance. Since tuples can't be changed, they are often used for fixed collections of data and can be used as keys in dictionaries, something mutable types can't do.\n",
        "\n",
        "7. What is the difference between == and is operators in Python?\n",
        " - == checks if two values are equal, meaning their contents are the same.\n",
        "\n",
        "      is checks if two variables point to the exact same object in memory. For example:\n",
        "\n",
        "      a = [1, 2]\n",
        "\n",
        "      b = [1, 2]\n",
        "\n",
        "      print(a == b)  # Output will be True, because contents are equal\n",
        "\n",
        "      print(a is b)  # Output will be False, because they are different objects in memory\n",
        "\n",
        "8. What are logical operators in Python?\n",
        " - Logical operators are used to combine multiple boolean expressions. There are three main logical operators in Python:\n",
        "\n",
        "    and: Returns True if both conditions are true.\n",
        "\n",
        "    or: Returns True if at least one condition is true.\n",
        "\n",
        "    not: Reverses the result of a boolean expression.\n",
        "\n",
        "    These are useful for controlling the flow of a program, especially in if statements and loops.\n",
        "\n",
        "9. What is type casting in Python?\n",
        " - Type casting means converting one data type into another. Python supports both automatic (implicit) and manual (explicit) type conversion. For example:\n",
        "\n",
        "    x = 5        # integer\n",
        "\n",
        "    y = str(x)   # explicitly cast to string\n",
        "\n",
        "    Type casting is useful when you want to perform operations on different data types that normally wouldn’t work together, like combining numbers and strings.\n",
        "\n",
        "10. What is the difference between implicit and explicit type casting?\n",
        " - Implicit casting happens automatically when Python converts a smaller data type to a larger one during operations (e.g., int to float).\n",
        "\n",
        "\n",
        "    result = 5 + 2.0  # 5 is converted to 5.0 automatically\n",
        "\n",
        "  Explicit casting is done manually using functions like int(), float(), or str().\n",
        "\n",
        "    num = int(\"42\")  # string to int\n",
        "\n",
        "11. What is the purpose of conditional statements in Python?\n",
        " - Conditional statements allow a program to make decisions and execute code only when certain conditions are met. For example, using if, elif, and else, you can run different blocks of code depending on the value of a variable or the result of a comparison.\n",
        "\n",
        "12. How does the elif statement work?\n",
        " - The elif statement stands for \"else if\" and is used when you have multiple conditions to check. It comes after an if statement and before an else. If the if condition is false, Python moves on to check the elif condition. If none match, it finally executes the else block.\n",
        "\n",
        "    x = 7\n",
        "    \n",
        "    if x > 10:\n",
        "    \n",
        "        print(\"Greater than 10\")\n",
        "\n",
        "    elif x == 7:\n",
        "        \n",
        "        print(\"Equals 7\")\n",
        "\n",
        "    else:\n",
        "        \n",
        "        print(\"Something else\")\n",
        "\n",
        "13. What is the difference between for and while loops?\n",
        " - A for loop is used when you know in advance how many times you want to loop. It iterates over a sequence like a list, string, or range.\n",
        "\n",
        "       A while loop is used when you don’t know in advance how many times you'll need to loop—it runs as long as a condition is true.\n",
        "\n",
        "14. Describe a scenario where a while loop is more suitable than a for loop.\n",
        " - Imagine you’re building a password prompt that keeps asking the user for input until they get it right. You don’t know how many tries they’ll need, so a while loop makes more sense than a for loop with a fixed number of attempts.\n",
        "\n",
        "      password = \"\"\n",
        "\n",
        "      while password != \"python123\":\n",
        "\n",
        "             password = input(\"Enter password: \")\n",
        "      print(\"Access granted!\")"
      ],
      "metadata": {
        "id": "8h4jOCrV2Dq1"
      }
    },
    {
      "cell_type": "code",
      "source": [
        "# 1. Write a Python program to print \"Hello, World!\"\n",
        "\n",
        "print(\"Hello, World!\")\n"
      ],
      "metadata": {
        "id": "q1mNDKuB2F1y"
      },
      "execution_count": null,
      "outputs": []
    },
    {
      "cell_type": "code",
      "execution_count": null,
      "metadata": {
        "id": "6eedf_m80x-1"
      },
      "outputs": [],
      "source": [
        "# 2. Write a Python program that displays your name and age\n",
        "\n",
        "name = \"Prem Dhaka\"\n",
        "age = 17\n",
        "\n",
        "print(\"My name is\", name)\n",
        "print(\"I am\", age, \"years old.\")\n"
      ]
    },
    {
      "cell_type": "code",
      "source": [
        "# 3. Write code to print all the pre-defined keywords in Python using the keyword library\n",
        "\n",
        "import keyword\n",
        "\n",
        "print(\"Pre-defined Python keywords:\")\n",
        "for kw in keyword.kwlist:\n",
        "    print(kw)\n"
      ],
      "metadata": {
        "id": "IXUvU_qaQje-"
      },
      "execution_count": null,
      "outputs": []
    },
    {
      "cell_type": "code",
      "source": [
        "# 4. Write a program that checks if a given word is a Python keyword\n",
        "\n",
        "import keyword\n",
        "\n",
        "word = input(\"Enter a word to check if it's a Python keyword: \")\n",
        "\n",
        "if keyword.iskeyword(word):\n",
        "    print(f\"Yes, '{word}' is a Python keyword.\")\n",
        "else:\n",
        "    print(f\"No, '{word}' is not a Python keyword.\")\n"
      ],
      "metadata": {
        "id": "vZqmhumwQlRx"
      },
      "execution_count": null,
      "outputs": []
    },
    {
      "cell_type": "code",
      "source": [
        "# 5. Write a function to demonstrate the behavior of mutable and immutable arguments\n",
        "\n",
        "# Lists are mutable, integers are immutable\n",
        "\n",
        "def modify_list(my_list):\n",
        "    my_list.append(99)  # This change affects the original list\n",
        "\n",
        "def modify_integer(num):\n",
        "    num += 10  # This does NOT affect the original variable\n",
        "\n",
        "original_list = [1, 2, 3]\n",
        "original_number = 5\n",
        "\n",
        "modify_list(original_list)\n",
        "modify_integer(original_number)\n",
        "\n",
        "print(\"After modifying list:\", original_list)      # List will be changed\n",
        "print(\"After modifying number:\", original_number)  # Number stays the same\n"
      ],
      "metadata": {
        "id": "-ynpN3_4RoxH"
      },
      "execution_count": null,
      "outputs": []
    },
    {
      "cell_type": "code",
      "source": [
        "# 6. Write a program that performs basic arithmetic operations on two user-input numbers\n",
        "\n",
        "num1 = float(input(\"Enter the first number: \"))\n",
        "num2 = float(input(\"Enter the second number: \"))\n",
        "\n",
        "print(\"Addition:\", num1 + num2)\n",
        "print(\"Subtraction:\", num1 - num2)\n",
        "print(\"Multiplication:\", num1 * num2)\n",
        "\n",
        "if num2 != 0:\n",
        "    print(\"Division:\", num1 / num2)\n",
        "else:\n",
        "    print(\"Division: Cannot divide by zero\")\n"
      ],
      "metadata": {
        "id": "2LO34STIS5mI"
      },
      "execution_count": null,
      "outputs": []
    },
    {
      "cell_type": "code",
      "source": [
        "# 7. Write a program to demonstrate the use of logical operators\n",
        "\n",
        "a = 10\n",
        "b = 5\n",
        "\n",
        "print(\"a > 0 and b > 0:\", a > 0 and b > 0)\n",
        "print(\"a < 0 or b > 0:\", a < 0 or b > 0)\n",
        "print(\"not (a < b):\", not (a < b))\n"
      ],
      "metadata": {
        "id": "JrFxhFcQS5xg"
      },
      "execution_count": null,
      "outputs": []
    },
    {
      "cell_type": "code",
      "source": [
        "# 8. Create a list and tuple in Python, and demonstrate how attempting to change an element works differently for each\n",
        "\n",
        "# List is mutable\n",
        "my_list = [1, 2, 3]\n",
        "my_list[0] = 100\n",
        "print(\"Modified list:\", my_list)\n",
        "\n",
        "# Tuple is immutable\n",
        "my_tuple = (1, 2, 3)\n",
        "try:\n",
        "    my_tuple[0] = 100\n",
        "except TypeError as e:\n",
        "    print(\"Error when modifying tuple:\", e)\n"
      ],
      "metadata": {
        "id": "iyRPbTgSS51Y"
      },
      "execution_count": null,
      "outputs": []
    },
    {
      "cell_type": "code",
      "source": [
        "# 9. Write a Python program to convert user input from string to integer, float, and boolean types\n",
        "\n",
        "user_input = input(\"Enter a value: \")\n",
        "\n",
        "int_value = int(user_input)\n",
        "float_value = float(user_input)\n",
        "bool_value = bool(user_input)\n",
        "\n",
        "print(\"As Integer:\", int_value)\n",
        "print(\"As Float:\", float_value)\n",
        "print(\"As Boolean:\", bool_value)\n"
      ],
      "metadata": {
        "id": "be0nsL3mS55E"
      },
      "execution_count": null,
      "outputs": []
    },
    {
      "cell_type": "code",
      "source": [
        "# 10. Write code to demonstrate type casting with list elements\n",
        "\n",
        "string_list = [\"10\", \"20\", \"30\"]\n",
        "\n",
        "int_list = [int(x) for x in string_list]\n",
        "\n",
        "print(\"String list:\", string_list)\n",
        "print(\"Converted to integers:\", int_list)\n"
      ],
      "metadata": {
        "id": "_BAsIu2iS59u"
      },
      "execution_count": null,
      "outputs": []
    },
    {
      "cell_type": "code",
      "source": [
        "# 11. Write a program that checks if a number is positive, negative, or zero\n",
        "\n",
        "number = float(input(\"Enter a number: \"))\n",
        "\n",
        "if number > 0:\n",
        "    print(\"The number is positive.\")\n",
        "elif number < 0:\n",
        "    print(\"The number is negative.\")\n",
        "else:\n",
        "    print(\"The number is zero.\")\n"
      ],
      "metadata": {
        "id": "lOmrPZ0qVCRd"
      },
      "execution_count": null,
      "outputs": []
    },
    {
      "cell_type": "code",
      "source": [
        "# 12. Write a for loop to print numbers from 1 to 10\n",
        "\n",
        "print(\"Numbers from 1 to 10:\")\n",
        "for i in range(1, 11):\n",
        "    print(i)\n"
      ],
      "metadata": {
        "id": "s7O4SKJ-VCTt"
      },
      "execution_count": null,
      "outputs": []
    },
    {
      "cell_type": "code",
      "source": [
        "# 13. Write a Python program to find the sum of all even numbers between 1 and 50\n",
        "\n",
        "total = 0\n",
        "for i in range(1, 51):\n",
        "    if i % 2 == 0:\n",
        "        total += i\n",
        "\n",
        "print(\"Sum of even numbers between 1 and 50:\", total)\n"
      ],
      "metadata": {
        "id": "bGt2zmL8VCV-"
      },
      "execution_count": null,
      "outputs": []
    },
    {
      "cell_type": "code",
      "source": [
        "# 14. Write a program to reverse a string using a while loop\n",
        "\n",
        "text = input(\"Enter a string: \")\n",
        "reversed_text = \"\"\n",
        "index = len(text) - 1\n",
        "\n",
        "while index >= 0:\n",
        "    reversed_text += text[index]\n",
        "    index -= 1\n",
        "\n",
        "print(\"Reversed string:\", reversed_text)\n"
      ],
      "metadata": {
        "id": "QG0wJGm5VCYW"
      },
      "execution_count": null,
      "outputs": []
    },
    {
      "cell_type": "code",
      "source": [
        "# 15. Write a Python program to calculate the factorial of a number provided by the user using a while loop\n",
        "\n",
        "num = int(input(\"Enter a number: \"))\n",
        "factorial = 1\n",
        "i = 1\n",
        "\n",
        "while i <= num:\n",
        "    factorial *= i\n",
        "    i += 1\n",
        "\n",
        "print(f\"Factorial of {num} is {factorial}\")\n"
      ],
      "metadata": {
        "id": "W_EM461kVCaM"
      },
      "execution_count": null,
      "outputs": []
    }
  ]
}